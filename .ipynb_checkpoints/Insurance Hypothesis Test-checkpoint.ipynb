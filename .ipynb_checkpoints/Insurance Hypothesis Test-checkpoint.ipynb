{
 "cells": [
  {
   "cell_type": "markdown",
   "id": "4eecc338",
   "metadata": {},
   "source": [
    "# Import Libraries and Data"
   ]
  },
  {
   "cell_type": "code",
   "execution_count": 1,
   "id": "68ae1e49",
   "metadata": {},
   "outputs": [],
   "source": [
    "#standard imports\n",
    "import numpy as np\n",
    "import pandas as pd\n",
    "#data visual imports\n",
    "import matplotlib.pyplot as plt\n",
    "import seaborn as sns\n",
    "#statistics test import \n",
    "import scipy.stats as stats\n",
    "from statsmodels.stats.multicomp import pairwise_tukeyhsd"
   ]
  },
  {
   "cell_type": "code",
   "execution_count": 2,
   "id": "d881768a",
   "metadata": {},
   "outputs": [
    {
     "data": {
      "text/html": [
       "<div>\n",
       "<style scoped>\n",
       "    .dataframe tbody tr th:only-of-type {\n",
       "        vertical-align: middle;\n",
       "    }\n",
       "\n",
       "    .dataframe tbody tr th {\n",
       "        vertical-align: top;\n",
       "    }\n",
       "\n",
       "    .dataframe thead th {\n",
       "        text-align: right;\n",
       "    }\n",
       "</style>\n",
       "<table border=\"1\" class=\"dataframe\">\n",
       "  <thead>\n",
       "    <tr style=\"text-align: right;\">\n",
       "      <th></th>\n",
       "      <th>age</th>\n",
       "      <th>sex</th>\n",
       "      <th>bmi</th>\n",
       "      <th>children</th>\n",
       "      <th>smoker</th>\n",
       "      <th>region</th>\n",
       "      <th>charges</th>\n",
       "    </tr>\n",
       "  </thead>\n",
       "  <tbody>\n",
       "    <tr>\n",
       "      <th>0</th>\n",
       "      <td>19</td>\n",
       "      <td>female</td>\n",
       "      <td>27.900</td>\n",
       "      <td>0</td>\n",
       "      <td>yes</td>\n",
       "      <td>southwest</td>\n",
       "      <td>16884.92400</td>\n",
       "    </tr>\n",
       "    <tr>\n",
       "      <th>1</th>\n",
       "      <td>18</td>\n",
       "      <td>male</td>\n",
       "      <td>33.770</td>\n",
       "      <td>1</td>\n",
       "      <td>no</td>\n",
       "      <td>southeast</td>\n",
       "      <td>1725.55230</td>\n",
       "    </tr>\n",
       "    <tr>\n",
       "      <th>2</th>\n",
       "      <td>28</td>\n",
       "      <td>male</td>\n",
       "      <td>33.000</td>\n",
       "      <td>3</td>\n",
       "      <td>no</td>\n",
       "      <td>southeast</td>\n",
       "      <td>4449.46200</td>\n",
       "    </tr>\n",
       "    <tr>\n",
       "      <th>3</th>\n",
       "      <td>33</td>\n",
       "      <td>male</td>\n",
       "      <td>22.705</td>\n",
       "      <td>0</td>\n",
       "      <td>no</td>\n",
       "      <td>northwest</td>\n",
       "      <td>21984.47061</td>\n",
       "    </tr>\n",
       "    <tr>\n",
       "      <th>4</th>\n",
       "      <td>32</td>\n",
       "      <td>male</td>\n",
       "      <td>28.880</td>\n",
       "      <td>0</td>\n",
       "      <td>no</td>\n",
       "      <td>northwest</td>\n",
       "      <td>3866.85520</td>\n",
       "    </tr>\n",
       "  </tbody>\n",
       "</table>\n",
       "</div>"
      ],
      "text/plain": [
       "   age     sex     bmi  children smoker     region      charges\n",
       "0   19  female  27.900         0    yes  southwest  16884.92400\n",
       "1   18    male  33.770         1     no  southeast   1725.55230\n",
       "2   28    male  33.000         3     no  southeast   4449.46200\n",
       "3   33    male  22.705         0     no  northwest  21984.47061\n",
       "4   32    male  28.880         0     no  northwest   3866.85520"
      ]
     },
     "execution_count": 2,
     "metadata": {},
     "output_type": "execute_result"
    }
   ],
   "source": [
    "#import data\n",
    "url = 'https://docs.google.com/spreadsheets/d/e/2PACX-1vQBN8DPW2rdiRrY34eEM53HAzakNGSRrw4ogI-j8HyCUrbqTB_z4CeIn2IvjLF-w_6sOe5pIlypJGAA/pub?output=csv'\n",
    "df = pd.read_csv(url)\n",
    "df.head()"
   ]
  },
  {
   "cell_type": "code",
   "execution_count": 3,
   "id": "fa2862d6",
   "metadata": {},
   "outputs": [
    {
     "name": "stdout",
     "output_type": "stream",
     "text": [
      "Data contains 1 Duplicate Values\n",
      "Data contains 0 Missing Values\n"
     ]
    }
   ],
   "source": [
    "#checking for duplicates and missing values\n",
    "print(f'Data contains {df.duplicated().sum()} Duplicate Values')\n",
    "print(f'Data contains {df.isna().sum().sum()} Missing Values')"
   ]
  },
  {
   "cell_type": "code",
   "execution_count": 4,
   "id": "1c6ef757",
   "metadata": {},
   "outputs": [
    {
     "name": "stdout",
     "output_type": "stream",
     "text": [
      "Data now contains 0 Duplicate Values\n"
     ]
    }
   ],
   "source": [
    "#dropping dupliactes\n",
    "df = df.drop_duplicates()\n",
    "print(f'Data now contains {df.duplicated().sum()} Duplicate Values')"
   ]
  },
  {
   "cell_type": "markdown",
   "id": "110f09f9",
   "metadata": {},
   "source": [
    "# Q1. Do smokers have higher insurance charges than non-smokers?"
   ]
  },
  {
   "cell_type": "markdown",
   "id": "8e4ed9b9",
   "metadata": {},
   "source": [
    "- Null Hypothesis: There is no difference in  insurance charges between smokers and non-smokers.\n",
    "\n",
    "- Alternate Hypothesis: There is a difference in insurance charges betwee smokers and non-smokers.\n",
    "\n",
    "- Alpha = .05"
   ]
  },
  {
   "cell_type": "code",
   "execution_count": 5,
   "id": "b98f8eff",
   "metadata": {
    "scrolled": true
   },
   "outputs": [
    {
     "data": {
      "text/plain": [
       "no     1063\n",
       "yes     274\n",
       "Name: smoker, dtype: int64"
      ]
     },
     "execution_count": 5,
     "metadata": {},
     "output_type": "execute_result"
    }
   ],
   "source": [
    "#checking value_counts of smoker column\n",
    "df['smoker'].value_counts()"
   ]
  },
  {
   "cell_type": "code",
   "execution_count": 6,
   "id": "d879c8a9",
   "metadata": {},
   "outputs": [
    {
     "data": {
      "text/plain": [
       "Text(0.5, 1.0, 'Smokers vs Non-Smokers')"
      ]
     },
     "execution_count": 6,
     "metadata": {},
     "output_type": "execute_result"
    },
    {
     "data": {
      "image/png": "[encoded data removed]",
      "text/plain": [
       "<Figure size 640x480 with 1 Axes>"
      ]
     },
     "metadata": {},
     "output_type": "display_data"
    }
   ],
   "source": [
    "df['smoker'].value_counts().plot(kind='barh')\n",
    "plt.title('Smokers vs Non-Smokers')"
   ]
  },
  {
   "cell_type": "markdown",
   "id": "dca11ae6",
   "metadata": {},
   "source": [
    "Note: We have significantly more non-smokers than smokers in our data set"
   ]
  },
  {
   "cell_type": "code",
   "execution_count": 7,
   "id": "341be7bd",
   "metadata": {},
   "outputs": [],
   "source": [
    "#filtering out smokers from non-smokers\n",
    "smokers = df.loc[df['smoker']== 'yes'].copy()\n",
    "non_smokers = df.loc[df['smoker']== 'no'].copy()"
   ]
  },
  {
   "cell_type": "code",
   "execution_count": 8,
   "id": "7771c098",
   "metadata": {},
   "outputs": [],
   "source": [
    "#creating data from charges column \n",
    "smoker_cost = smokers['charges']\n",
    "non_smoker_cost = non_smokers['charges']"
   ]
  },
  {
   "cell_type": "code",
   "execution_count": 9,
   "id": "7380b3cf",
   "metadata": {},
   "outputs": [
    {
     "data": {
      "text/plain": [
       "0"
      ]
     },
     "execution_count": 9,
     "metadata": {},
     "output_type": "execute_result"
    }
   ],
   "source": [
    "#checking for outliers in smoker group\n",
    "zscores = stats.zscore(smoker_cost)\n",
    "outliers = abs(zscores)>3\n",
    "np.sum(outliers)"
   ]
  },
  {
   "cell_type": "code",
   "execution_count": 10,
   "id": "2613b00f",
   "metadata": {},
   "outputs": [
    {
     "data": {
      "text/plain": [
       "24"
      ]
     },
     "execution_count": 10,
     "metadata": {},
     "output_type": "execute_result"
    }
   ],
   "source": [
    "#checking for outliers in non-smoker group\n",
    "zscores = stats.zscore(non_smoker_cost)\n",
    "outliers = abs(zscores)>3\n",
    "np.sum(outliers)"
   ]
  },
  {
   "cell_type": "code",
   "execution_count": 11,
   "id": "a6624158",
   "metadata": {},
   "outputs": [],
   "source": [
    "#removing outliers from non_smoker group \n",
    "non_smoker_cost = non_smoker_cost[(np.abs(stats.zscore(non_smoker_cost)) < 3)]"
   ]
  },
  {
   "cell_type": "markdown",
   "id": "35cad488",
   "metadata": {},
   "source": [
    "## Normal Test"
   ]
  },
  {
   "cell_type": "code",
   "execution_count": 12,
   "id": "f928c3ba",
   "metadata": {},
   "outputs": [
    {
     "name": "stdout",
     "output_type": "stream",
     "text": [
      "NormaltestResult(statistic=61.03941356533816, pvalue=5.564930630036463e-14)\n"
     ]
    },
    {
     "data": {
      "text/plain": [
       "True"
      ]
     },
     "execution_count": 12,
     "metadata": {},
     "output_type": "execute_result"
    }
   ],
   "source": [
    "#normal test on smoker group\n",
    "result_smoker = stats.normaltest(smoker_cost)\n",
    "print(result_smoker)\n",
    "result_smoker.pvalue < .05"
   ]
  },
  {
   "cell_type": "code",
   "execution_count": 13,
   "id": "b09e207c",
   "metadata": {},
   "outputs": [
    {
     "name": "stdout",
     "output_type": "stream",
     "text": [
      "NormaltestResult(statistic=163.70821423990097, pvalue=2.8262654970074626e-36)\n"
     ]
    },
    {
     "data": {
      "text/plain": [
       "True"
      ]
     },
     "execution_count": 13,
     "metadata": {},
     "output_type": "execute_result"
    }
   ],
   "source": [
    "#normal test on non_smoker group\n",
    "result_non_smoker = stats.normaltest(non_smoker_cost)\n",
    "print(result_non_smoker)\n",
    "result_non_smoker.pvalue < .05"
   ]
  },
  {
   "cell_type": "markdown",
   "id": "e575b71b",
   "metadata": {},
   "source": [
    "Both data sets are less than .05 in pvalues. However, our sample size is large enough (more than 15 a group) to continue ahead."
   ]
  },
  {
   "cell_type": "markdown",
   "id": "cc11b1ff",
   "metadata": {},
   "source": [
    "## Checking for Equal Variance"
   ]
  },
  {
   "cell_type": "code",
   "execution_count": 14,
   "id": "9639136d",
   "metadata": {},
   "outputs": [
    {
     "name": "stdout",
     "output_type": "stream",
     "text": [
      "LeveneResult(statistic=520.7178262969225, pvalue=2.512613039096279e-97)\n"
     ]
    },
    {
     "data": {
      "text/plain": [
       "True"
      ]
     },
     "execution_count": 14,
     "metadata": {},
     "output_type": "execute_result"
    }
   ],
   "source": [
    "# running levene test\n",
    "result = stats.levene(smoker_cost, non_smoker_cost)\n",
    "print(result)\n",
    "result.pvalue < .05"
   ]
  },
  {
   "cell_type": "markdown",
   "id": "6d6fe7d3",
   "metadata": {},
   "source": [
    "Since the pvalue is less than .05, we do not have equal variance. However, we can adjust the parameters moving forward to compensate. "
   ]
  },
  {
   "cell_type": "markdown",
   "id": "83f05d16",
   "metadata": {},
   "source": [
    "## Running T Test"
   ]
  },
  {
   "cell_type": "code",
   "execution_count": 15,
   "id": "585f5f48",
   "metadata": {},
   "outputs": [
    {
     "name": "stdout",
     "output_type": "stream",
     "text": [
      "p-value=0.0000000000\n",
      "Significant: True\n"
     ]
    }
   ],
   "source": [
    "#running independent t test \n",
    "result = stats.ttest_ind(smoker_cost, non_smoker_cost, equal_var = False)\n",
    "#seeing if result is significal\n",
    "print(f\"p-value={result.pvalue:.10f}\")\n",
    "print(f\"Significant: {result.pvalue <.05}\")"
   ]
  },
  {
   "cell_type": "markdown",
   "id": "c002017a",
   "metadata": {},
   "source": [
    "Our pvalue is less than 5 percent. So we reject the null hypothesis and accept that there is significant a difference in total charges in medical charges in smokers and non smokers"
   ]
  },
  {
   "cell_type": "markdown",
   "id": "fbf95041",
   "metadata": {},
   "source": [
    "## Data Visualization"
   ]
  },
  {
   "cell_type": "code",
   "execution_count": 18,
   "id": "bb82210b",
   "metadata": {},
   "outputs": [
    {
     "data": {
      "image/png": "[encoded data removed]",
      "text/plain": [
       "<Figure size 1000x600 with 1 Axes>"
      ]
     },
     "metadata": {},
     "output_type": "display_data"
    }
   ],
   "source": [
    "#plotting smoker group data\n",
    "mean = smokers['charges'].mean()\n",
    "median = smokers['charges'].median()\n",
    "std = smokers['charges'].std()\n",
    "plus_one_std = mean + std\n",
    "minus_one_std = mean - std\n",
    "fig,ax = plt.subplots(figsize=(10,6))\n",
    "sns.histplot(smokers['charges'] ,ax=ax,stat='probability')b\n",
    "ax.axvline(plus_one_std, color = 'black',label=f'+1 std = {plus_one_std:,.2f}')\n",
    "ax.axvline(minus_one_std, color = 'black', label = f'-1 std = {minus_one_std:,.2f}')\n",
    "ax.axvline(mean, color = 'green', label = f'Mean = {mean:,.2f}')\n",
    "ax.axvline(median, color = 'blue', label = f'Median = {median:,.2f}')\n",
    "ax.axvspan(plus_one_std, minus_one_std, color = 'yellow', zorder = 0)\n",
    "ax.set_title(f'Medical Charges for Smokers')\n",
    "ax.legend();"
   ]
  },
  {
   "cell_type": "code",
   "execution_count": 19,
   "id": "ebbde3cf",
   "metadata": {
    "scrolled": false
   },
   "outputs": [
    {
     "data": {
      "image/png": "[encoded data removed]",
      "text/plain": [
       "<Figure size 1000x600 with 1 Axes>"
      ]
     },
     "metadata": {},
     "output_type": "display_data"
    }
   ],
   "source": [
    "#plotting smoker group data\n",
    "mean = non_smokers['charges'].mean()\n",
    "median = non_smokers['charges'].median()\n",
    "std = non_smokers['charges'].std()\n",
    "plus_one_std = mean + std\n",
    "minus_one_std = mean - std\n",
    "fig,ax = plt.subplots(figsize=(10,6))\n",
    "sns.histplot(non_smokers['charges'] ,ax=ax,stat='probability')\n",
    "ax.axvline(plus_one_std, color = 'black',label=f'+1 std = {plus_one_std:,.2f}')\n",
    "ax.axvline(minus_one_std, color = 'black', label = f'-1 std = {minus_one_std:,.2f}')\n",
    "ax.axvline(mean, color = 'green', label = f'Mean = {mean:,.2f}')\n",
    "ax.axvline(median, color = 'blue', label = f'Median = {median:,.2f}')\n",
    "ax.axvspan(plus_one_std, minus_one_std, color = 'yellow', zorder = 0)\n",
    "ax.set_title(f'Medical Charges for Non-Smokers')\n",
    "ax.legend();"
   ]
  },
  {
   "cell_type": "markdown",
   "id": "7d66b222",
   "metadata": {},
   "source": [
    "# Q2. Are men more likely to smoke than women?"
   ]
  },
  {
   "cell_type": "markdown",
   "id": "ceb59610",
   "metadata": {},
   "source": [
    "- Null Hypothesis: Men and just as likely to smoke as Women\n",
    "\n",
    "- Alternate Hypothesis: Men aren't just as likely to smoke as Women \n",
    "\n",
    "- Alpha: .05"
   ]
  },
  {
   "cell_type": "code",
   "execution_count": 21,
   "id": "8cb6ec63",
   "metadata": {},
   "outputs": [
    {
     "data": {
      "text/plain": [
       "Text(0.5, 1.0, 'Smokers by Gender')"
      ]
     },
     "execution_count": 21,
     "metadata": {},
     "output_type": "execute_result"
    },
    {
     "data": {
      "image/png": "[encoded data removed]",
      "text/plain": [
       "<Figure size 640x480 with 1 Axes>"
      ]
     },
     "metadata": {},
     "output_type": "display_data"
    }
   ],
   "source": [
    "#plotting smokers by gender\n",
    "ax = sns.countplot(data=df, x='sex', hue='smoker')\n",
    "ax.set_title('Smokers by Gender')"
   ]
  },
  {
   "cell_type": "markdown",
   "id": "a8747d06",
   "metadata": {},
   "source": [
    "The data contains more male smokers than female smokers"
   ]
  },
  {
   "cell_type": "code",
   "execution_count": 23,
   "id": "4a468d08",
   "metadata": {},
   "outputs": [
    {
     "data": {
      "text/html": [
       "<div>\n",
       "<style scoped>\n",
       "    .dataframe tbody tr th:only-of-type {\n",
       "        vertical-align: middle;\n",
       "    }\n",
       "\n",
       "    .dataframe tbody tr th {\n",
       "        vertical-align: top;\n",
       "    }\n",
       "\n",
       "    .dataframe thead th {\n",
       "        text-align: right;\n",
       "    }\n",
       "</style>\n",
       "<table border=\"1\" class=\"dataframe\">\n",
       "  <thead>\n",
       "    <tr style=\"text-align: right;\">\n",
       "      <th>smoker</th>\n",
       "      <th>no</th>\n",
       "      <th>yes</th>\n",
       "    </tr>\n",
       "    <tr>\n",
       "      <th>sex</th>\n",
       "      <th></th>\n",
       "      <th></th>\n",
       "    </tr>\n",
       "  </thead>\n",
       "  <tbody>\n",
       "    <tr>\n",
       "      <th>female</th>\n",
       "      <td>547</td>\n",
       "      <td>115</td>\n",
       "    </tr>\n",
       "    <tr>\n",
       "      <th>male</th>\n",
       "      <td>516</td>\n",
       "      <td>159</td>\n",
       "    </tr>\n",
       "  </tbody>\n",
       "</table>\n",
       "</div>"
      ],
      "text/plain": [
       "smoker   no  yes\n",
       "sex             \n",
       "female  547  115\n",
       "male    516  159"
      ]
     },
     "execution_count": 23,
     "metadata": {},
     "output_type": "execute_result"
    }
   ],
   "source": [
    "#using crosstab function to create a new table with sex and smoker columns\n",
    "gender_smoke = pd.crosstab(df['sex'], df['smoker'])\n",
    "gender_smoke"
   ]
  },
  {
   "cell_type": "code",
   "execution_count": 25,
   "id": "782e9cdc",
   "metadata": {},
   "outputs": [],
   "source": [
    "#running chi-square test\n",
    "result = stats.chi2_contingency(gender_smoke)\n",
    "#saving output \n",
    "chi2, p, deg_free, expected_vals = result"
   ]
  },
  {
   "cell_type": "code",
   "execution_count": 26,
   "id": "228c660e",
   "metadata": {},
   "outputs": [
    {
     "name": "stdout",
     "output_type": "stream",
     "text": [
      "0.0062765550120107375\n",
      "Result is Significant: True\n"
     ]
    }
   ],
   "source": [
    "#printing results of test\n",
    "print(p)\n",
    "print(f'Result is Significant: {p<.05}')"
   ]
  },
  {
   "cell_type": "markdown",
   "id": "0f42174f",
   "metadata": {},
   "source": [
    "Since the pvalue is less than 5 percent, we reject the null hypothesis and accept there is a difference in likelihood of smoking between sexes."
   ]
  },
  {
   "cell_type": "markdown",
   "id": "8eef8cd1",
   "metadata": {},
   "source": [
    "# Q3 Do different regions have different charges, on average?"
   ]
  },
  {
   "cell_type": "markdown",
   "id": "4ae5de95",
   "metadata": {},
   "source": [
    "- Null Hypothesis: There is no difference in charges by region.\n",
    "\n",
    "- Alternate Hypothesis: There is a difference in charges by region.\n",
    "\n",
    "- Alpha: 0.05"
   ]
  },
  {
   "cell_type": "code",
   "execution_count": 29,
   "id": "5b96f244",
   "metadata": {},
   "outputs": [
    {
     "data": {
      "text/plain": [
       "southeast    364\n",
       "southwest    325\n",
       "northwest    324\n",
       "northeast    324\n",
       "Name: region, dtype: int64"
      ]
     },
     "execution_count": 29,
     "metadata": {},
     "output_type": "execute_result"
    }
   ],
   "source": [
    "#checking value counts of region column\n",
    "df['region'].value_counts()"
   ]
  },
  {
   "cell_type": "code",
   "execution_count": 30,
   "id": "4034bdf7",
   "metadata": {},
   "outputs": [
    {
     "data": {
      "text/plain": [
       "dict_keys(['southwest', 'southeast', 'northwest', 'northeast'])"
      ]
     },
     "execution_count": 30,
     "metadata": {},
     "output_type": "execute_result"
    }
   ],
   "source": [
    "#creating dictionary group\n",
    "groups = {}\n",
    "#loop through all region column values\n",
    "for i in df['region'].unique():\n",
    "    data = df.loc[df['region']==i, 'charges'].copy()\n",
    "    groups[i] = data\n",
    "groups.keys()"
   ]
  },
  {
   "cell_type": "code",
   "execution_count": 33,
   "id": "f97013d2",
   "metadata": {},
   "outputs": [
    {
     "data": {
      "text/html": [
       "<div>\n",
       "<style scoped>\n",
       "    .dataframe tbody tr th:only-of-type {\n",
       "        vertical-align: middle;\n",
       "    }\n",
       "\n",
       "    .dataframe tbody tr th {\n",
       "        vertical-align: top;\n",
       "    }\n",
       "\n",
       "    .dataframe thead th {\n",
       "        text-align: right;\n",
       "    }\n",
       "</style>\n",
       "<table border=\"1\" class=\"dataframe\">\n",
       "  <thead>\n",
       "    <tr style=\"text-align: right;\">\n",
       "      <th></th>\n",
       "      <th>n</th>\n",
       "      <th>p</th>\n",
       "      <th>test stat</th>\n",
       "    </tr>\n",
       "  </thead>\n",
       "  <tbody>\n",
       "    <tr>\n",
       "      <th>southwest</th>\n",
       "      <td>325.0</td>\n",
       "      <td>6.125298e-23</td>\n",
       "      <td>102.294059</td>\n",
       "    </tr>\n",
       "    <tr>\n",
       "      <th>southeast</th>\n",
       "      <td>364.0</td>\n",
       "      <td>4.953297e-15</td>\n",
       "      <td>65.877446</td>\n",
       "    </tr>\n",
       "    <tr>\n",
       "      <th>northwest</th>\n",
       "      <td>324.0</td>\n",
       "      <td>6.502634e-24</td>\n",
       "      <td>106.779670</td>\n",
       "    </tr>\n",
       "    <tr>\n",
       "      <th>northeast</th>\n",
       "      <td>324.0</td>\n",
       "      <td>1.455431e-19</td>\n",
       "      <td>86.747629</td>\n",
       "    </tr>\n",
       "  </tbody>\n",
       "</table>\n",
       "</div>"
      ],
      "text/plain": [
       "               n             p   test stat\n",
       "southwest  325.0  6.125298e-23  102.294059\n",
       "southeast  364.0  4.953297e-15   65.877446\n",
       "northwest  324.0  6.502634e-24  106.779670\n",
       "northeast  324.0  1.455431e-19   86.747629"
      ]
     },
     "execution_count": 33,
     "metadata": {},
     "output_type": "execute_result"
    }
   ],
   "source": [
    "#running normal test and detrmining count in each group\n",
    "norm_results = {}\n",
    "for i, data in groups.items():\n",
    "    stat, p = stats.normaltest(data)\n",
    "    norm_results[i] = {'n': len(data),\n",
    "                       'p': p,\n",
    "                       'test stat': stat}\n",
    "#saving to dataframe\n",
    "norm_results_df = pd.DataFrame(norm_results).T\n",
    "norm_results_df"
   ]
  },
  {
   "cell_type": "code",
   "execution_count": 34,
   "id": "70435c1d",
   "metadata": {},
   "outputs": [
    {
     "data": {
      "text/html": [
       "<div>\n",
       "<style scoped>\n",
       "    .dataframe tbody tr th:only-of-type {\n",
       "        vertical-align: middle;\n",
       "    }\n",
       "\n",
       "    .dataframe tbody tr th {\n",
       "        vertical-align: top;\n",
       "    }\n",
       "\n",
       "    .dataframe thead th {\n",
       "        text-align: right;\n",
       "    }\n",
       "</style>\n",
       "<table border=\"1\" class=\"dataframe\">\n",
       "  <thead>\n",
       "    <tr style=\"text-align: right;\">\n",
       "      <th></th>\n",
       "      <th>n</th>\n",
       "      <th>p</th>\n",
       "      <th>test stat</th>\n",
       "      <th>sig</th>\n",
       "    </tr>\n",
       "  </thead>\n",
       "  <tbody>\n",
       "    <tr>\n",
       "      <th>southwest</th>\n",
       "      <td>325.0</td>\n",
       "      <td>6.125298e-23</td>\n",
       "      <td>102.294059</td>\n",
       "      <td>True</td>\n",
       "    </tr>\n",
       "    <tr>\n",
       "      <th>southeast</th>\n",
       "      <td>364.0</td>\n",
       "      <td>4.953297e-15</td>\n",
       "      <td>65.877446</td>\n",
       "      <td>True</td>\n",
       "    </tr>\n",
       "    <tr>\n",
       "      <th>northwest</th>\n",
       "      <td>324.0</td>\n",
       "      <td>6.502634e-24</td>\n",
       "      <td>106.779670</td>\n",
       "      <td>True</td>\n",
       "    </tr>\n",
       "    <tr>\n",
       "      <th>northeast</th>\n",
       "      <td>324.0</td>\n",
       "      <td>1.455431e-19</td>\n",
       "      <td>86.747629</td>\n",
       "      <td>True</td>\n",
       "    </tr>\n",
       "  </tbody>\n",
       "</table>\n",
       "</div>"
      ],
      "text/plain": [
       "               n             p   test stat   sig\n",
       "southwest  325.0  6.125298e-23  102.294059  True\n",
       "southeast  364.0  4.953297e-15   65.877446  True\n",
       "northwest  324.0  6.502634e-24  106.779670  True\n",
       "northeast  324.0  1.455431e-19   86.747629  True"
      ]
     },
     "execution_count": 34,
     "metadata": {},
     "output_type": "execute_result"
    }
   ],
   "source": [
    "#adding sig column to indicate signficance\n",
    "norm_results_df['sig']=norm_results_df['p']<.05\n",
    "norm_results_df"
   ]
  },
  {
   "cell_type": "markdown",
   "id": "b50e6222",
   "metadata": {},
   "source": [
    "none of our groups seem to have a normal distribution, so we cannot reject the null hypothesis. There is no difference in charges between the regions. "
   ]
  }
 ],
 "metadata": {
  "kernelspec": {
   "display_name": "Python (dojo-env)",
   "language": "python",
   "name": "dojo-env"
  },
  "language_info": {
   "codemirror_mode": {
    "name": "ipython",
    "version": 3
   },
   "file_extension": ".py",
   "mimetype": "text/x-python",
   "name": "python",
   "nbconvert_exporter": "python",
   "pygments_lexer": "ipython3",
   "version": "3.8.13"
  },
  "toc": {
   "base_numbering": 1,
   "nav_menu": {},
   "number_sections": true,
   "sideBar": true,
   "skip_h1_title": false,
   "title_cell": "Table of Contents",
   "title_sidebar": "Contents",
   "toc_cell": false,
   "toc_position": {},
   "toc_section_display": true,
   "toc_window_display": false
  }
 },
 "nbformat": 4,
 "nbformat_minor": 5
}
